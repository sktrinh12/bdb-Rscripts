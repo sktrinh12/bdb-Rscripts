{
 "cells": [
  {
   "cell_type": "code",
   "execution_count": 3,
   "id": "foreign-bristol",
   "metadata": {},
   "outputs": [],
   "source": [
    "library(ggplot2)\n",
    "library(gridExtra)"
   ]
  },
  {
   "cell_type": "code",
   "execution_count": 134,
   "id": "characteristic-david",
   "metadata": {},
   "outputs": [],
   "source": [
    "createPlot <- function(df, title, boolData) {\n",
    "    if (boolData == TRUE) {\n",
    "        p <- ggplot(df, aes(x, y))\n",
    "    } else {\n",
    "        p <- ggplot(df)\n",
    "    }\n",
    "    p <- p + geom_point() +\n",
    "    #xlim(0, 10) +\n",
    "    #ylim(0, 100) + \n",
    "    ggtitle(title) +\n",
    "    xlab(\"\") + \n",
    "    ylab(\"\") + \n",
    "        theme(\n",
    "            axis.ticks = element_blank(),\n",
    "            axis.text = element_blank(),\n",
    "            plot.title = element_text(size = 12, hjust = 0.5)\n",
    "            )\n",
    "    return(p)\n",
    "    }"
   ]
  },
  {
   "cell_type": "code",
   "execution_count": 44,
   "id": "unable-chain",
   "metadata": {},
   "outputs": [
    {
     "data": {
      "image/png": "[encoded data removed]",
      "text/plain": [
       "plot without title"
      ]
     },
     "metadata": {
      "image/png": {
       "height": 420,
       "width": 420
      }
     },
     "output_type": "display_data"
    }
   ],
   "source": [
    "df <- data.frame()\n",
    "createPlot(df, 'test', FALSE)"
   ]
  },
  {
   "cell_type": "code",
   "execution_count": 123,
   "id": "residential-unemployment",
   "metadata": {},
   "outputs": [],
   "source": [
    "plateLabels = sapply(LETTERS[1:8], function(x) {\n",
    "    paste0(x,seq(1,8))\n",
    "    }, USE.NAMES = FALSE)"
   ]
  },
  {
   "cell_type": "code",
   "execution_count": 124,
   "id": "special-huntington",
   "metadata": {},
   "outputs": [
    {
     "data": {
      "text/html": [
       "<table class=\"dataframe\">\n",
       "<caption>A matrix: 8 × 8 of type chr</caption>\n",
       "<tbody>\n",
       "\t<tr><td>A1</td><td>B1</td><td>C1</td><td>D1</td><td>E1</td><td>F1</td><td>G1</td><td>H1</td></tr>\n",
       "\t<tr><td>A2</td><td>B2</td><td>C2</td><td>D2</td><td>E2</td><td>F2</td><td>G2</td><td>H2</td></tr>\n",
       "\t<tr><td>A3</td><td>B3</td><td>C3</td><td>D3</td><td>E3</td><td>F3</td><td>G3</td><td>H3</td></tr>\n",
       "\t<tr><td>A4</td><td>B4</td><td>C4</td><td>D4</td><td>E4</td><td>F4</td><td>G4</td><td>H4</td></tr>\n",
       "\t<tr><td>A5</td><td>B5</td><td>C5</td><td>D5</td><td>E5</td><td>F5</td><td>G5</td><td>H5</td></tr>\n",
       "\t<tr><td>A6</td><td>B6</td><td>C6</td><td>D6</td><td>E6</td><td>F6</td><td>G6</td><td>H6</td></tr>\n",
       "\t<tr><td>A7</td><td>B7</td><td>C7</td><td>D7</td><td>E7</td><td>F7</td><td>G7</td><td>H7</td></tr>\n",
       "\t<tr><td>A8</td><td>B8</td><td>C8</td><td>D8</td><td>E8</td><td>F8</td><td>G8</td><td>H8</td></tr>\n",
       "</tbody>\n",
       "</table>\n"
      ],
      "text/latex": [
       "A matrix: 8 × 8 of type chr\n",
       "\\begin{tabular}{llllllll}\n",
       "\t A1 & B1 & C1 & D1 & E1 & F1 & G1 & H1\\\\\n",
       "\t A2 & B2 & C2 & D2 & E2 & F2 & G2 & H2\\\\\n",
       "\t A3 & B3 & C3 & D3 & E3 & F3 & G3 & H3\\\\\n",
       "\t A4 & B4 & C4 & D4 & E4 & F4 & G4 & H4\\\\\n",
       "\t A5 & B5 & C5 & D5 & E5 & F5 & G5 & H5\\\\\n",
       "\t A6 & B6 & C6 & D6 & E6 & F6 & G6 & H6\\\\\n",
       "\t A7 & B7 & C7 & D7 & E7 & F7 & G7 & H7\\\\\n",
       "\t A8 & B8 & C8 & D8 & E8 & F8 & G8 & H8\\\\\n",
       "\\end{tabular}\n"
      ],
      "text/markdown": [
       "\n",
       "A matrix: 8 × 8 of type chr\n",
       "\n",
       "| A1 | B1 | C1 | D1 | E1 | F1 | G1 | H1 |\n",
       "| A2 | B2 | C2 | D2 | E2 | F2 | G2 | H2 |\n",
       "| A3 | B3 | C3 | D3 | E3 | F3 | G3 | H3 |\n",
       "| A4 | B4 | C4 | D4 | E4 | F4 | G4 | H4 |\n",
       "| A5 | B5 | C5 | D5 | E5 | F5 | G5 | H5 |\n",
       "| A6 | B6 | C6 | D6 | E6 | F6 | G6 | H6 |\n",
       "| A7 | B7 | C7 | D7 | E7 | F7 | G7 | H7 |\n",
       "| A8 | B8 | C8 | D8 | E8 | F8 | G8 | H8 |\n",
       "\n"
      ],
      "text/plain": [
       "     [,1] [,2] [,3] [,4] [,5] [,6] [,7] [,8]\n",
       "[1,] A1   B1   C1   D1   E1   F1   G1   H1  \n",
       "[2,] A2   B2   C2   D2   E2   F2   G2   H2  \n",
       "[3,] A3   B3   C3   D3   E3   F3   G3   H3  \n",
       "[4,] A4   B4   C4   D4   E4   F4   G4   H4  \n",
       "[5,] A5   B5   C5   D5   E5   F5   G5   H5  \n",
       "[6,] A6   B6   C6   D6   E6   F6   G6   H6  \n",
       "[7,] A7   B7   C7   D7   E7   F7   G7   H7  \n",
       "[8,] A8   B8   C8   D8   E8   F8   G8   H8  "
      ]
     },
     "metadata": {},
     "output_type": "display_data"
    }
   ],
   "source": [
    "plateLabels"
   ]
  },
  {
   "cell_type": "code",
   "execution_count": 40,
   "id": "ethical-progressive",
   "metadata": {},
   "outputs": [
    {
     "data": {
      "text/html": [
       "<table class=\"dataframe\">\n",
       "<caption>A data.frame: 6 × 2</caption>\n",
       "<thead>\n",
       "\t<tr><th></th><th scope=col>x</th><th scope=col>y</th></tr>\n",
       "\t<tr><th></th><th scope=col>&lt;dbl&gt;</th><th scope=col>&lt;dbl&gt;</th></tr>\n",
       "</thead>\n",
       "<tbody>\n",
       "\t<tr><th scope=row>1</th><td>-0.78490816</td><td>-1.3644688</td></tr>\n",
       "\t<tr><th scope=row>2</th><td>-0.27951436</td><td>-0.4850855</td></tr>\n",
       "\t<tr><th scope=row>3</th><td>-0.16145790</td><td> 0.8824801</td></tr>\n",
       "\t<tr><th scope=row>4</th><td>-0.29059656</td><td>-0.1427136</td></tr>\n",
       "\t<tr><th scope=row>5</th><td>-0.06753159</td><td>-0.9824703</td></tr>\n",
       "\t<tr><th scope=row>6</th><td>-0.63352041</td><td> 0.4800219</td></tr>\n",
       "</tbody>\n",
       "</table>\n"
      ],
      "text/latex": [
       "A data.frame: 6 × 2\n",
       "\\begin{tabular}{r|ll}\n",
       "  & x & y\\\\\n",
       "  & <dbl> & <dbl>\\\\\n",
       "\\hline\n",
       "\t1 & -0.78490816 & -1.3644688\\\\\n",
       "\t2 & -0.27951436 & -0.4850855\\\\\n",
       "\t3 & -0.16145790 &  0.8824801\\\\\n",
       "\t4 & -0.29059656 & -0.1427136\\\\\n",
       "\t5 & -0.06753159 & -0.9824703\\\\\n",
       "\t6 & -0.63352041 &  0.4800219\\\\\n",
       "\\end{tabular}\n"
      ],
      "text/markdown": [
       "\n",
       "A data.frame: 6 × 2\n",
       "\n",
       "| <!--/--> | x &lt;dbl&gt; | y &lt;dbl&gt; |\n",
       "|---|---|---|\n",
       "| 1 | -0.78490816 | -1.3644688 |\n",
       "| 2 | -0.27951436 | -0.4850855 |\n",
       "| 3 | -0.16145790 |  0.8824801 |\n",
       "| 4 | -0.29059656 | -0.1427136 |\n",
       "| 5 | -0.06753159 | -0.9824703 |\n",
       "| 6 | -0.63352041 |  0.4800219 |\n",
       "\n"
      ],
      "text/plain": [
       "  x           y         \n",
       "1 -0.78490816 -1.3644688\n",
       "2 -0.27951436 -0.4850855\n",
       "3 -0.16145790  0.8824801\n",
       "4 -0.29059656 -0.1427136\n",
       "5 -0.06753159 -0.9824703\n",
       "6 -0.63352041  0.4800219"
      ]
     },
     "metadata": {},
     "output_type": "display_data"
    }
   ],
   "source": [
    "set.seed(345)                                       # Set seed\n",
    "data <- data.frame(x = rnorm(100),                  # x variable\n",
    "                   y = rnorm(100))                  # y variable\n",
    "head(data)                         "
   ]
  },
  {
   "cell_type": "code",
   "execution_count": 45,
   "id": "architectural-drill",
   "metadata": {},
   "outputs": [
    {
     "data": {
      "image/png": "[encoded data removed]",
      "text/plain": [
       "plot without title"
      ]
     },
     "metadata": {
      "image/png": {
       "height": 420,
       "width": 420
      }
     },
     "output_type": "display_data"
    }
   ],
   "source": [
    "createPlot(data, 'test', TRUE)"
   ]
  },
  {
   "cell_type": "code",
   "execution_count": 89,
   "id": "union-galaxy",
   "metadata": {},
   "outputs": [],
   "source": [
    "validPlots <- c('A1','A2','B1','B2','G1', \n",
    "                'G2','H1','H2','A7','A8',\n",
    "                'B7','B8','G7','G8','H7',\n",
    "                'H8','C3','F3','D4','E4',\n",
    "                'D5','E5','C6','F6')"
   ]
  },
  {
   "cell_type": "code",
   "execution_count": 100,
   "id": "serial-partner",
   "metadata": {},
   "outputs": [],
   "source": [
    "regex.compile <- '[A-H](\\\\d{1,2})' "
   ]
  },
  {
   "cell_type": "code",
   "execution_count": 105,
   "id": "advisory-defense",
   "metadata": {},
   "outputs": [
    {
     "data": {
      "text/html": [
       "'10'"
      ],
      "text/latex": [
       "'10'"
      ],
      "text/markdown": [
       "'10'"
      ],
      "text/plain": [
       "[1] \"10\""
      ]
     },
     "metadata": {},
     "output_type": "display_data"
    }
   ],
   "source": [
    "stringr::str_match('A10', regex.compile)[2]"
   ]
  },
  {
   "cell_type": "code",
   "execution_count": 135,
   "id": "spectacular-bloom",
   "metadata": {
    "tags": []
   },
   "outputs": [],
   "source": [
    "plist = list()\n",
    "for (i in seq(1,64)) {\n",
    "    title <- plateLabels[i]\n",
    "    #if (as.numeric(stringr::str_match(title, regex.compile)[2]) > 9) {\n",
    "    #    next\n",
    "    #}\n",
    "    if ( title %in% validPlots ) {\n",
    "        plist[[i]] <- createPlot(data, title, TRUE)\n",
    "    } else {\n",
    "        plist[[i]] <- createPlot(df, title, FALSE)\n",
    "    }\n",
    "}"
   ]
  },
  {
   "cell_type": "code",
   "execution_count": 136,
   "id": "buried-pathology",
   "metadata": {},
   "outputs": [
    {
     "data": {
      "text/plain": [
       "[[1]]\n"
      ]
     },
     "metadata": {},
     "output_type": "display_data"
    },
    {
     "data": {
      "image/png": "[encoded data removed]",
      "text/plain": [
       "plot without title"
      ]
     },
     "metadata": {
      "image/png": {
       "height": 420,
       "width": 420
      }
     },
     "output_type": "display_data"
    }
   ],
   "source": [
    "plist[1]"
   ]
  },
  {
   "cell_type": "code",
   "execution_count": 137,
   "id": "medium-georgia",
   "metadata": {
    "tags": []
   },
   "outputs": [
    {
     "data": {
      "image/png": "[encoded data removed]",
      "text/plain": [
       "plot without title"
      ]
     },
     "metadata": {
      "image/png": {
       "height": 420,
       "width": 420
      }
     },
     "output_type": "display_data"
    }
   ],
   "source": [
    "grid.arrange(grobs = plist, ncol = 8) #, nrow = 8)"
   ]
  },
  {
   "cell_type": "code",
   "execution_count": 132,
   "id": "sufficient-sector",
   "metadata": {
    "collapsed": true,
    "jupyter": {
     "outputs_hidden": true
    },
    "tags": []
   },
   "outputs": [
    {
     "data": {
      "text/plain": [
       "TableGrob (8 x 8) \"arrange\": 64 grobs\n",
       "    z     cells    name           grob\n",
       "1   1 (1-1,1-1) arrange gtable[layout]\n",
       "2   2 (1-1,2-2) arrange gtable[layout]\n",
       "3   3 (1-1,3-3) arrange gtable[layout]\n",
       "4   4 (1-1,4-4) arrange gtable[layout]\n",
       "5   5 (1-1,5-5) arrange gtable[layout]\n",
       "6   6 (1-1,6-6) arrange gtable[layout]\n",
       "7   7 (1-1,7-7) arrange gtable[layout]\n",
       "8   8 (1-1,8-8) arrange gtable[layout]\n",
       "9   9 (2-2,1-1) arrange gtable[layout]\n",
       "10 10 (2-2,2-2) arrange gtable[layout]\n",
       "11 11 (2-2,3-3) arrange gtable[layout]\n",
       "12 12 (2-2,4-4) arrange gtable[layout]\n",
       "13 13 (2-2,5-5) arrange gtable[layout]\n",
       "14 14 (2-2,6-6) arrange gtable[layout]\n",
       "15 15 (2-2,7-7) arrange gtable[layout]\n",
       "16 16 (2-2,8-8) arrange gtable[layout]\n",
       "17 17 (3-3,1-1) arrange gtable[layout]\n",
       "18 18 (3-3,2-2) arrange gtable[layout]\n",
       "19 19 (3-3,3-3) arrange gtable[layout]\n",
       "20 20 (3-3,4-4) arrange gtable[layout]\n",
       "21 21 (3-3,5-5) arrange gtable[layout]\n",
       "22 22 (3-3,6-6) arrange gtable[layout]\n",
       "23 23 (3-3,7-7) arrange gtable[layout]\n",
       "24 24 (3-3,8-8) arrange gtable[layout]\n",
       "25 25 (4-4,1-1) arrange gtable[layout]\n",
       "26 26 (4-4,2-2) arrange gtable[layout]\n",
       "27 27 (4-4,3-3) arrange gtable[layout]\n",
       "28 28 (4-4,4-4) arrange gtable[layout]\n",
       "29 29 (4-4,5-5) arrange gtable[layout]\n",
       "30 30 (4-4,6-6) arrange gtable[layout]\n",
       "31 31 (4-4,7-7) arrange gtable[layout]\n",
       "32 32 (4-4,8-8) arrange gtable[layout]\n",
       "33 33 (5-5,1-1) arrange gtable[layout]\n",
       "34 34 (5-5,2-2) arrange gtable[layout]\n",
       "35 35 (5-5,3-3) arrange gtable[layout]\n",
       "36 36 (5-5,4-4) arrange gtable[layout]\n",
       "37 37 (5-5,5-5) arrange gtable[layout]\n",
       "38 38 (5-5,6-6) arrange gtable[layout]\n",
       "39 39 (5-5,7-7) arrange gtable[layout]\n",
       "40 40 (5-5,8-8) arrange gtable[layout]\n",
       "41 41 (6-6,1-1) arrange gtable[layout]\n",
       "42 42 (6-6,2-2) arrange gtable[layout]\n",
       "43 43 (6-6,3-3) arrange gtable[layout]\n",
       "44 44 (6-6,4-4) arrange gtable[layout]\n",
       "45 45 (6-6,5-5) arrange gtable[layout]\n",
       "46 46 (6-6,6-6) arrange gtable[layout]\n",
       "47 47 (6-6,7-7) arrange gtable[layout]\n",
       "48 48 (6-6,8-8) arrange gtable[layout]\n",
       "49 49 (7-7,1-1) arrange gtable[layout]\n",
       "50 50 (7-7,2-2) arrange gtable[layout]\n",
       "51 51 (7-7,3-3) arrange gtable[layout]\n",
       "52 52 (7-7,4-4) arrange gtable[layout]\n",
       "53 53 (7-7,5-5) arrange gtable[layout]\n",
       "54 54 (7-7,6-6) arrange gtable[layout]\n",
       "55 55 (7-7,7-7) arrange gtable[layout]\n",
       "56 56 (7-7,8-8) arrange gtable[layout]\n",
       "57 57 (8-8,1-1) arrange gtable[layout]\n",
       "58 58 (8-8,2-2) arrange gtable[layout]\n",
       "59 59 (8-8,3-3) arrange gtable[layout]\n",
       "60 60 (8-8,4-4) arrange gtable[layout]\n",
       "61 61 (8-8,5-5) arrange gtable[layout]\n",
       "62 62 (8-8,6-6) arrange gtable[layout]\n",
       "63 63 (8-8,7-7) arrange gtable[layout]\n",
       "64 64 (8-8,8-8) arrange gtable[layout]"
      ]
     },
     "metadata": {},
     "output_type": "display_data"
    }
   ],
   "source": [
    "arrangeGrob(grobs = plist, ncol= 8)"
   ]
  },
  {
   "cell_type": "code",
   "execution_count": 129,
   "id": "moderate-terrorism",
   "metadata": {},
   "outputs": [
    {
     "name": "stderr",
     "output_type": "stream",
     "text": [
      "Saving 6.67 x 6.67 in image\n",
      "\n"
     ]
    }
   ],
   "source": [
    "ggsave(file = 'test-output.png', arrangeGrob(grobs = plist, ncol = 8))"
   ]
  }
 ],
 "metadata": {
  "kernelspec": {
   "display_name": "R",
   "language": "R",
   "name": "ir"
  },
  "language_info": {
   "codemirror_mode": "r",
   "file_extension": ".r",
   "mimetype": "text/x-r-source",
   "name": "R",
   "pygments_lexer": "r",
   "version": "4.0.4"
  }
 },
 "nbformat": 4,
 "nbformat_minor": 5
}
